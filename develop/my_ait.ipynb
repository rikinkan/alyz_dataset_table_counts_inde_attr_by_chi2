{
 "cells": [
  {
   "cell_type": "markdown",
   "metadata": {
    "deletable": false,
    "editable": false
   },
   "source": [
    "# AIT Development notebook"
   ]
  },
  {
   "cell_type": "markdown",
   "metadata": {
    "deletable": false,
    "editable": false
   },
   "source": [
    "## notebook of structure"
   ]
  },
  {
   "cell_type": "markdown",
   "metadata": {
    "deletable": false,
    "editable": false
   },
   "source": [
    "| #  | Name                                               | cells | for_dev | edit               | description                                                                |\n",
    "|----|----------------------------------------------------|-------|---------|--------------------|----------------------------------------------------------------------------|\n",
    "| 1  | [Environment detection](##1-Environment-detection) | 1     | No      | uneditable         | detect whether the notebook are invoked for packaging or in production     |\n",
    "| 2  | [Preparing AIT SDK](##2-Preparing-AIT-SDK)         | 1     | Yes     | uneditable         | download and install AIT SDK                                               |\n",
    "| 3  | [Dependency Management](##3-Dependency-Management) | 3     | Yes     | required(cell #2)  | generate requirements.txt for Docker container                             |\n",
    "| 4  | [Importing Libraries](##4-Importing-Libraries)     | 2     | Yes     | required(cell #1)  | import required libraries                                                  |\n",
    "| 5  | [Manifest Generation](##5-Manifest-Generation)     | 1     | Yes     | required           | generate AIT Manifest                                                      |\n",
    "| 6  | [Prepare for the Input](##6-Prepare-for-the-Input) | 1     | Yes     | required           | generate AIT Input JSON (inventory mapper)                                 |\n",
    "| 7  | [Initialization](##7-Initialization)               | 1     | No      | uneditable         | initialization for AIT execution                                           |\n",
    "| 8  | [Function definitions](##8-Function-definitions)   | N     | No      | required           | define functions invoked from Main area.<br> also define output functions. |\n",
    "| 9  | [Main Algorithms](##9-Main-Algorithms)             | 1     | No      | required           | area for main algorithms of an AIT                                         |\n",
    "| 10 | [Entry point](##10-Entry-point)                    | 1     | No      | uneditable         | an entry point where Qunomon invoke this AIT from here                     |\n",
    "| 11 | [License](##11-License)                            | 1     | Yes     | required           | generate license information                                               |\n",
    "| 12 | [Deployment](##12-Deployment)                      | 1     | Yes     | uneditable         | convert this notebook to the python file for packaging purpose             |"
   ]
  },
  {
   "cell_type": "markdown",
   "metadata": {
    "deletable": false,
    "editable": false
   },
   "source": [
    "## notebook template revision history"
   ]
  },
  {
   "cell_type": "markdown",
   "metadata": {
    "deletable": false,
    "editable": false
   },
   "source": [
    "1.0.1 2020/10/21\n",
    "\n",
    "* add revision history\n",
    "* separate `create requirements and pip install` editable and noeditable\n",
    "* separate `import` editable and noeditable\n",
    "\n",
    "1.0.0 2020/10/12\n",
    "\n",
    "* new cerarion"
   ]
  },
  {
   "cell_type": "markdown",
   "metadata": {
    "deletable": false,
    "editable": false
   },
   "source": [
    "## body"
   ]
  },
  {
   "cell_type": "markdown",
   "metadata": {
    "deletable": false,
    "editable": false
   },
   "source": [
    "### #1 Environment detection"
   ]
  },
  {
   "cell_type": "markdown",
   "metadata": {
    "deletable": false,
    "editable": false
   },
   "source": [
    "[uneditable]"
   ]
  },
  {
   "cell_type": "code",
   "execution_count": 1,
   "metadata": {
    "deletable": false,
    "editable": false
   },
   "outputs": [],
   "source": [
    "# Determine whether to start AIT or jupyter by startup argument\n",
    "import sys\n",
    "is_ait_launch = (len(sys.argv) == 2)"
   ]
  },
  {
   "cell_type": "markdown",
   "metadata": {
    "deletable": false,
    "editable": false
   },
   "source": [
    "### #2 Preparing AIT SDK"
   ]
  },
  {
   "cell_type": "markdown",
   "metadata": {
    "deletable": false,
    "editable": false
   },
   "source": [
    "[uneditable]"
   ]
  },
  {
   "cell_type": "code",
   "execution_count": 2,
   "metadata": {
    "deletable": false,
    "editable": false
   },
   "outputs": [
    {
     "name": "stdout",
     "output_type": "stream",
     "text": [
      "\u001b[33mWARNING: Running pip as the 'root' user can result in broken permissions and conflicting behaviour with the system package manager. It is recommended to use a virtual environment instead: https://pip.pypa.io/warnings/venv\u001b[0m\u001b[33m\n",
      "\u001b[0m\u001b[33mWARNING: Running pip as the 'root' user can result in broken permissions and conflicting behaviour with the system package manager. It is recommended to use a virtual environment instead: https://pip.pypa.io/warnings/venv\u001b[0m\u001b[33m\n",
      "\u001b[0m"
     ]
    }
   ],
   "source": [
    "if not is_ait_launch:\n",
    "    # get ait-sdk file name\n",
    "    from pathlib import Path\n",
    "    from glob import glob\n",
    "    import re\n",
    "    import os\n",
    "\n",
    "    current_dir = %pwd\n",
    "\n",
    "    ait_sdk_path = \"./ait_sdk-*-py3-none-any.whl\"\n",
    "    ait_sdk_list = glob(ait_sdk_path)\n",
    "    ait_sdk_name = os.path.basename(ait_sdk_list[-1])\n",
    "\n",
    "    # install ait-sdk\n",
    "    !pip install -q --upgrade pip\n",
    "    !pip install -q --no-deps --force-reinstall ./$ait_sdk_name"
   ]
  },
  {
   "cell_type": "markdown",
   "metadata": {
    "deletable": false,
    "editable": false
   },
   "source": [
    "### #3 Dependency Management"
   ]
  },
  {
   "cell_type": "markdown",
   "metadata": {
    "deletable": false,
    "editable": false
   },
   "source": [
    "#### #3-1 [uneditable]"
   ]
  },
  {
   "cell_type": "code",
   "execution_count": 3,
   "metadata": {
    "deletable": false,
    "editable": false
   },
   "outputs": [],
   "source": [
    "if not is_ait_launch:\n",
    "    from ait_sdk.common.files.ait_requirements_generator import AITRequirementsGenerator\n",
    "    requirements_generator = AITRequirementsGenerator()"
   ]
  },
  {
   "cell_type": "markdown",
   "metadata": {
    "deletable": false,
    "editable": false
   },
   "source": [
    "#### #3-2 [required]"
   ]
  },
  {
   "cell_type": "code",
   "execution_count": 4,
   "metadata": {},
   "outputs": [],
   "source": [
    "if not is_ait_launch:\n",
    "    requirements_generator.add_package('pandas', '2.0.3')\n",
    "    requirements_generator.add_package('scipy', '1.9.0')\n",
    "    requirements_generator.add_package('matplotlib','3.6.0')"
   ]
  },
  {
   "cell_type": "markdown",
   "metadata": {
    "deletable": false,
    "editable": false
   },
   "source": [
    "#### #3-3 [uneditable]"
   ]
  },
  {
   "cell_type": "code",
   "execution_count": 5,
   "metadata": {
    "deletable": false,
    "editable": false
   },
   "outputs": [
    {
     "name": "stdout",
     "output_type": "stream",
     "text": [
      "\u001b[33mWARNING: Running pip as the 'root' user can result in broken permissions and conflicting behaviour with the system package manager. It is recommended to use a virtual environment instead: https://pip.pypa.io/warnings/venv\u001b[0m\u001b[33m\n",
      "\u001b[0m"
     ]
    }
   ],
   "source": [
    "if not is_ait_launch:\n",
    "    requirements_generator.add_package(f'./{ait_sdk_name}')\n",
    "    requirements_path = requirements_generator.create_requirements(current_dir)\n",
    "\n",
    "    !pip install -q -r $requirements_path "
   ]
  },
  {
   "cell_type": "markdown",
   "metadata": {
    "deletable": false,
    "editable": false
   },
   "source": [
    "### #4 Importing Libraries"
   ]
  },
  {
   "cell_type": "markdown",
   "metadata": {
    "deletable": false,
    "editable": false
   },
   "source": [
    "#### #4-1 [required]"
   ]
  },
  {
   "cell_type": "code",
   "execution_count": 6,
   "metadata": {},
   "outputs": [],
   "source": [
    "# import if you need modules cell\n",
    "import pandas as pd\n",
    "from scipy.stats import chi2_contingency\n",
    "from scipy.stats import chi2\n",
    "import matplotlib.pyplot as plt\n",
    "from pathlib import Path"
   ]
  },
  {
   "cell_type": "markdown",
   "metadata": {
    "deletable": false,
    "editable": false
   },
   "source": [
    "#### #4-2 [uneditable]"
   ]
  },
  {
   "cell_type": "code",
   "execution_count": 7,
   "metadata": {
    "deletable": false,
    "editable": false
   },
   "outputs": [],
   "source": [
    "# must use modules\n",
    "from os import path\n",
    "import shutil  # do not remove\n",
    "from ait_sdk.common.files.ait_input import AITInput  # do not remove\n",
    "from ait_sdk.common.files.ait_output import AITOutput  # do not remove\n",
    "from ait_sdk.common.files.ait_manifest import AITManifest  # do not remove\n",
    "from ait_sdk.develop.ait_path_helper import AITPathHelper  # do not remove\n",
    "from ait_sdk.utils.logging import get_logger, log, get_log_path  # do not remove\n",
    "from ait_sdk.develop.annotation import measures, resources, downloads, ait_main  # do not remove\n",
    "# must use modules"
   ]
  },
  {
   "cell_type": "markdown",
   "metadata": {
    "deletable": false,
    "editable": false
   },
   "source": [
    "### #5 Manifest Generation"
   ]
  },
  {
   "cell_type": "markdown",
   "metadata": {
    "deletable": false,
    "editable": false
   },
   "source": [
    "[required]"
   ]
  },
  {
   "cell_type": "code",
   "execution_count": 8,
   "metadata": {},
   "outputs": [],
   "source": [
    "if not is_ait_launch:\n",
    "    from ait_sdk.common.files.ait_manifest_generator import AITManifestGenerator\n",
    "    manifest_genenerator = AITManifestGenerator(current_dir)\n",
    "    manifest_genenerator.set_ait_name('alyz_dataset_table_counts_inde_attr_by_chi2')\n",
    "    manifest_genenerator.set_ait_description('データの妥当性を評価するため、CSV形式のデータセットについて、ラベルと各属性の独立性をカイ二乗統計量を用いて算出し、独立性の高い属性が含まれている場合、不要な属性(ラベルと関係性がなく判定に関与できない属性)を用いたデータを使っていないかを確認すること。確認対象はカテゴリ属性のみにすること。')\n",
    "    manifest_genenerator.set_ait_source_repository('https://github.com/aistairc/Qunomon_AIT_alyz_dataset_table_counts_inde_attr_by_chi2')\n",
    "    manifest_genenerator.set_ait_version('0.2')\n",
    "    manifest_genenerator.add_ait_licenses('Apache License Version 2.0')\n",
    "    manifest_genenerator.add_ait_keywords('Chi-Squared')\n",
    "    manifest_genenerator.add_ait_keywords('recode count')\n",
    "    manifest_genenerator.set_ait_quality('https://ait-hub.pj.aist.go.jp/ait-hub/api/0.0.1/qualityDimensions/機械学習品質マネジメントガイドライン第三版/A-2データ設計の十分性')\n",
    "    inventory_requirement_data = manifest_genenerator.format_ait_inventory_requirement(format_=['csv'])\n",
    "    manifest_genenerator.add_ait_inventories(name='Table_data', \n",
    "                                             type_='dataset', \n",
    "                                             description='分析対象の表データ(csv)\\n1列目は属性名\\n連続値カラムはAIT内部でカイ二乗検定の対象から自動的に除外する', \n",
    "                                             requirement=inventory_requirement_data)\n",
    "    manifest_genenerator.add_ait_parameters(name='Target_attribute', \n",
    "                                            type_='str',  \n",
    "                                            description='予測するラベル属性', \n",
    "                                            default_val='')\n",
    "    manifest_genenerator.add_ait_parameters(name='Excluded_attributes', \n",
    "                                            type_='str',  \n",
    "                                            description='分析対象外の属性の指定(カンマ区切りで複数指定可能)\\n※指定しない場合はNoneを入力', \n",
    "                                            default_val='None')\n",
    "    manifest_genenerator.add_ait_parameters(name='p-value', \n",
    "                                            type_='float',  \n",
    "                                            description='カイ二乗統計量の閾値', \n",
    "                                            default_val='0.05')\n",
    "    manifest_genenerator.add_ait_measures(name='IndependentAttrCount', \n",
    "                                          type_='int', \n",
    "                                          description='カイ二乗統計量を元に独立性の高い属性の数(抽出規則：カイ二乗統計量の計算結果 <= p-value)', \n",
    "                                          structure='single',\n",
    "                                          min='0')\n",
    "    manifest_genenerator.add_ait_resources(name='DistributionPlot', \n",
    "                                           type_='picture', \n",
    "                                           description='独立性の高い属性の分布プロット')\n",
    "    manifest_genenerator.add_ait_downloads(name='AllAttrResult', \n",
    "                                           description='すべて属性のカイ二乗統計量の計算結果リスト')\n",
    "    manifest_genenerator.add_ait_downloads(name='Log', \n",
    "                                           description='AIT実行ログ')\n",
    "    manifest_path = manifest_genenerator.write()"
   ]
  },
  {
   "cell_type": "markdown",
   "metadata": {
    "deletable": false,
    "editable": false
   },
   "source": [
    "### #6 Prepare for the Input"
   ]
  },
  {
   "cell_type": "markdown",
   "metadata": {
    "deletable": false,
    "editable": false
   },
   "source": [
    "[required]"
   ]
  },
  {
   "cell_type": "code",
   "execution_count": 9,
   "metadata": {},
   "outputs": [],
   "source": [
    "if not is_ait_launch:\n",
    "    from ait_sdk.common.files.ait_input_generator import AITInputGenerator\n",
    "    input_generator = AITInputGenerator(manifest_path)\n",
    "    input_generator.add_ait_inventories(name='Table_data',\n",
    "                                        value='data.csv')\n",
    "    input_generator.set_ait_params(name='Target_attribute',\n",
    "                                   value='Survived')\n",
    "    input_generator.set_ait_params(name='Excluded_attributes',\n",
    "                                   value='None')\n",
    "    input_generator.set_ait_params(name='p-value',\n",
    "                                   value='0.05')\n",
    "    input_generator.write()"
   ]
  },
  {
   "cell_type": "markdown",
   "metadata": {
    "deletable": false,
    "editable": false
   },
   "source": [
    "### #7 Initialization"
   ]
  },
  {
   "cell_type": "markdown",
   "metadata": {
    "deletable": false,
    "editable": false
   },
   "source": [
    "[uneditable]"
   ]
  },
  {
   "cell_type": "code",
   "execution_count": 10,
   "metadata": {
    "deletable": false,
    "editable": false
   },
   "outputs": [],
   "source": [
    "logger = get_logger()\n",
    "\n",
    "ait_manifest = AITManifest()\n",
    "ait_input = AITInput(ait_manifest)\n",
    "ait_output = AITOutput(ait_manifest)\n",
    "\n",
    "if is_ait_launch:\n",
    "    # launch from AIT\n",
    "    current_dir = path.dirname(path.abspath(__file__))\n",
    "    path_helper = AITPathHelper(argv=sys.argv, ait_input=ait_input, ait_manifest=ait_manifest, entry_point_dir=current_dir)\n",
    "else:\n",
    "    # launch from jupyter notebook\n",
    "    # ait.input.json make in input_dir\n",
    "    input_dir = '/usr/local/qai/mnt/ip/job_args/1/1'\n",
    "    current_dir = %pwd\n",
    "    path_helper = AITPathHelper(argv=['', input_dir], ait_input=ait_input, ait_manifest=ait_manifest, entry_point_dir=current_dir)\n",
    "\n",
    "ait_input.read_json(path_helper.get_input_file_path())\n",
    "ait_manifest.read_json(path_helper.get_manifest_file_path())\n",
    "\n",
    "### do not edit cell"
   ]
  },
  {
   "cell_type": "markdown",
   "metadata": {
    "deletable": false,
    "editable": false
   },
   "source": [
    "### #8 Function definitions"
   ]
  },
  {
   "cell_type": "markdown",
   "metadata": {
    "deletable": false,
    "editable": false
   },
   "source": [
    "[required]"
   ]
  },
  {
   "cell_type": "code",
   "execution_count": 11,
   "metadata": {
    "scrolled": true
   },
   "outputs": [],
   "source": [
    "@log(logger)\n",
    "@measures(ait_output, 'IndependentAttrCount')\n",
    "def calc_independent_attr_count(table_data_df, target_attribute, excluded_attributes, input_p_value) -> int:\n",
    "    \n",
    "    # Category attributes\n",
    "    category_df = extract_categorical_attributes(table_data_df, target_attribute, excluded_attributes)\n",
    "    \n",
    "    # Label attribute to predict\n",
    "    target_attribute_df = table_data_df[target_attribute]\n",
    "    \n",
    "    # data concat\n",
    "    df = pd.concat([category_df, target_attribute_df], axis=1)\n",
    "    \n",
    "    # Counting highly independent attributes\n",
    "    independent_attribute_count = 0\n",
    "    rows = []\n",
    "    \n",
    "    print('\\n        ************************************       \\n')\n",
    "    \n",
    "    # chi-square statistic\n",
    "    for column in df.columns:\n",
    "        \n",
    "        if column == target_attribute:\n",
    "            continue\n",
    "        \n",
    "        stat, p, dof, expected = chi2_contingency(pd.crosstab(df[target_attribute], df[column]))\n",
    "\n",
    "        print('Target attribute name:', target_attribute)\n",
    "        print('Category attribute name:', column)\n",
    "        print('\\nChi-square statistic:', stat)\n",
    "        print('result p-value:', p)\n",
    "        print('Degrees of freedom:', dof)\n",
    "        print('Expected frequencies:\\n', expected.flatten())\n",
    "\n",
    "        \n",
    "        dependent_str = 'Dependent (reject H0)'\n",
    "        independent_str = 'Independent (fail to reject H0)'\n",
    "        \n",
    "        # interpret test-statistic\n",
    "        print('\\n----- interpret test-statistic-----')\n",
    "        prob = 1 - input_p_value\n",
    "        critical = chi2.ppf(prob, dof)\n",
    "        print('probability=%.3f, critical=%.3f, stat=%.3f' % (prob, critical, stat))\n",
    "        if abs(stat) >= critical:\n",
    "            print('interpret test-statistic : ', dependent_str)\n",
    "            interpret_test_statistic_flag = False\n",
    "        else:\n",
    "            print('interpret test-statistic : ', independent_str)\n",
    "            interpret_test_statistic_flag = True\n",
    "        \n",
    "        # interpret p-value\n",
    "        print('\\n----- interpret p-value-----')\n",
    "        alpha = 1.0 - prob\n",
    "        print('significance=%.3f, p=%.10f' % (alpha, p))\n",
    "        if p <= alpha:\n",
    "            print('interpret p-value : ', dependent_str)\n",
    "            interpret_p_value_flag = False\n",
    "        else:\n",
    "            print('interpret p-value : ', independent_str)\n",
    "            interpret_p_value_flag = True\n",
    "\n",
    "        # result count\n",
    "        if interpret_test_statistic_flag or interpret_p_value_flag: \n",
    "            independent_attribute_count += 1\n",
    "        \n",
    "        # result df\n",
    "        rows.append({'Target attribute name': target_attribute,\n",
    "                     'Category attribute name': column,\n",
    "                     'Interpret test-statistic': independent_str if interpret_test_statistic_flag else dependent_str,\n",
    "                     'Interpret p-value': independent_str if interpret_p_value_flag else dependent_str,\n",
    "                     'Chi-Square Statistic': stat,\n",
    "                     'p-value': p,\n",
    "                     'Degrees of Freedom': dof,\n",
    "                     'Expected Frequencies': expected.flatten()})\n",
    "        \n",
    "        \n",
    "        print('\\n        ************************************       \\n')\n",
    "    \n",
    "    return independent_attribute_count, pd.DataFrame(rows).sort_values(by='p-value', ascending=False)\n",
    "    "
   ]
  },
  {
   "cell_type": "code",
   "execution_count": 12,
   "metadata": {
    "scrolled": true
   },
   "outputs": [],
   "source": [
    "@log(logger)\n",
    "def extract_categorical_attributes(table_data_df, target_attribute, excluded_attributes):\n",
    "    \n",
    "    print('\\n table_data_columns:', table_data_df.columns)\n",
    "    \n",
    "    # Select only columns that meet criteria for categorical attributes\n",
    "    categorical_columns = [col for col in table_data_df.columns \n",
    "                           if (table_data_df[col].dtype == 'object' \n",
    "                               or \n",
    "                               table_data_df[col].dtype == 'int') \n",
    "                           and table_data_df[col].nunique() <= 50]\n",
    "    print('\\n categorical_columns:', categorical_columns)\n",
    "\n",
    "    # Extract only categorical attribute columns\n",
    "    category_df = table_data_df[categorical_columns]\n",
    "    \n",
    "    # Excluded attributes array\n",
    "    excluded_attribute_arr = []\n",
    "    \n",
    "    # Target attribute\n",
    "    if target_attribute in categorical_columns:\n",
    "        excluded_attribute_arr.append(target_attribute)\n",
    "\n",
    "    # Excluded attributes\n",
    "    if not(excluded_attributes == '' or excluded_attributes == 'None'):\n",
    "        columns_to_exclude = excluded_attributes.split(',')\n",
    "        for column in columns_to_exclude:\n",
    "            if column in categorical_columns:\n",
    "                excluded_attribute_arr.append(column)\n",
    "            else:\n",
    "                print('\\n Excluded attribute not present in dataset：', column)\n",
    "                \n",
    "    # Delete attributes            \n",
    "    category_df = category_df.drop(excluded_attribute_arr, axis=1)\n",
    "\n",
    "    print('\\n After excluded attributes:\\n', category_df)\n",
    "    \n",
    "    return category_df \n",
    "    "
   ]
  },
  {
   "cell_type": "code",
   "execution_count": 13,
   "metadata": {},
   "outputs": [],
   "source": [
    "@log(logger)\n",
    "@resources(ait_output, path_helper, 'DistributionPlot')\n",
    "def plot_result(result_df, file_name, file_path: str=None) -> None:\n",
    "    if len(result_df)<60: font_size = 14\n",
    "    if len(result_df)>60: font_size = 8\n",
    "    result_df.plot(x = 'Category attribute name', y = 'p-value', kind = 'bar', fontsize = font_size, figsize = (25,6))\n",
    "    plt.title('Bar Plot of Attributes p-value')\n",
    "    plt.xlabel('Category attribute name')\n",
    "    plt.ylabel('p-value')\n",
    "\n",
    "    file_path = file_path +  file_name\n",
    "    plt.savefig(file_path, bbox_inches='tight')\n",
    "    return file_path"
   ]
  },
  {
   "cell_type": "code",
   "execution_count": 14,
   "metadata": {},
   "outputs": [],
   "source": [
    "@log(logger)\n",
    "@downloads(ait_output, path_helper, 'AllAttrResult', 'AllAttrResult.csv')\n",
    "def chi_square_result(results_df, file_path: str=None) -> str:    \n",
    "    results_df.to_csv(file_path)"
   ]
  },
  {
   "cell_type": "code",
   "execution_count": 15,
   "metadata": {},
   "outputs": [],
   "source": [
    "@log(logger)\n",
    "@downloads(ait_output, path_helper, 'Log', 'ait.log')\n",
    "def move_log(file_path: str=None) -> str:\n",
    "    shutil.move(get_log_path(), file_path)"
   ]
  },
  {
   "cell_type": "markdown",
   "metadata": {
    "deletable": false,
    "editable": false
   },
   "source": [
    "### #9 Main Algorithms"
   ]
  },
  {
   "cell_type": "markdown",
   "metadata": {
    "deletable": false,
    "editable": false
   },
   "source": [
    "[required]"
   ]
  },
  {
   "cell_type": "code",
   "execution_count": 16,
   "metadata": {},
   "outputs": [],
   "source": [
    "@log(logger)\n",
    "@ait_main(ait_output, path_helper)\n",
    "def main() -> None:\n",
    "\n",
    "    # load inventory\n",
    "    table_data_df = pd.read_csv(ait_input.get_inventory_path('Table_data'))\n",
    "    \n",
    "    # parameters\n",
    "    target_attribute = ait_input.get_method_param_value('Target_attribute')\n",
    "    print('Target_attribute:', target_attribute)\n",
    "    excluded_attributes = ait_input.get_method_param_value('Excluded_attributes')\n",
    "    print('Excluded_attributes:', excluded_attributes)\n",
    "    input_p_value = ait_input.get_method_param_value('p-value')\n",
    "    print('input_p_value:', input_p_value)\n",
    "    \n",
    "    # Independence calculation\n",
    "    count, results_df = calc_independent_attr_count(table_data_df,\n",
    "                                   target_attribute,\n",
    "                                   excluded_attributes,\n",
    "                                   input_p_value)\n",
    "    \n",
    "    print('independent_attr_count:', count)\n",
    "    print('results_df:\\n', results_df)\n",
    "    \n",
    "    plot_result(results_df, 'chi_square_result_plot.jpg')\n",
    "    \n",
    "    chi_square_result(results_df)\n",
    "    move_log()\n",
    "    \n"
   ]
  },
  {
   "cell_type": "markdown",
   "metadata": {
    "deletable": false,
    "editable": false
   },
   "source": [
    "### #10 Entry point"
   ]
  },
  {
   "cell_type": "markdown",
   "metadata": {
    "deletable": false,
    "editable": false
   },
   "source": [
    "[uneditable]"
   ]
  },
  {
   "cell_type": "code",
   "execution_count": 17,
   "metadata": {
    "deletable": false,
    "editable": false
   },
   "outputs": [
    {
     "name": "stdout",
     "output_type": "stream",
     "text": [
      "Target_attribute: Survived\n",
      "Excluded_attributes: None\n",
      "input_p_value: 0.05\n",
      "\n",
      " table_data_columns: Index(['PassengerId', 'Survived', 'Pclass', 'Name', 'Sex', 'Age', 'SibSp',\n",
      "       'Parch', 'Ticket', 'Fare', 'Cabin', 'Embarked'],\n",
      "      dtype='object')\n",
      "\n",
      " categorical_columns: ['Survived', 'Pclass', 'Sex', 'SibSp', 'Parch', 'Embarked']\n",
      "\n",
      " After excluded attributes:\n",
      "      Pclass     Sex  SibSp  Parch Embarked\n",
      "0         3    male      1      0        S\n",
      "1         1  female      1      0        C\n",
      "2         3  female      0      0        S\n",
      "3         1  female      1      0        S\n",
      "4         3    male      0      0        S\n",
      "..      ...     ...    ...    ...      ...\n",
      "886       2    male      0      0        S\n",
      "887       1  female      0      0        S\n",
      "888       3  female      1      2        S\n",
      "889       1    male      0      0        C\n",
      "890       3    male      0      0        Q\n",
      "\n",
      "[891 rows x 5 columns]\n",
      "\n",
      "        ************************************       \n",
      "\n",
      "Target attribute name: Survived\n",
      "Category attribute name: Pclass\n",
      "\n",
      "Chi-square statistic: 102.88898875696056\n",
      "result p-value: 4.549251711298793e-23\n",
      "Degrees of freedom: 2\n",
      "Expected frequencies:\n",
      " [133.09090909 113.37373737 302.53535354  82.90909091  70.62626263\n",
      " 188.46464646]\n",
      "\n",
      "----- interpret test-statistic-----\n",
      "probability=0.950, critical=5.991, stat=102.889\n",
      "interpret test-statistic :  Dependent (reject H0)\n",
      "\n",
      "----- interpret p-value-----\n",
      "significance=0.050, p=0.0000000000\n",
      "interpret p-value :  Dependent (reject H0)\n",
      "\n",
      "        ************************************       \n",
      "\n",
      "Target attribute name: Survived\n",
      "Category attribute name: Sex\n",
      "\n",
      "Chi-square statistic: 260.71702016732104\n",
      "result p-value: 1.1973570627755645e-58\n",
      "Degrees of freedom: 1\n",
      "Expected frequencies:\n",
      " [193.47474747 355.52525253 120.52525253 221.47474747]\n",
      "\n",
      "----- interpret test-statistic-----\n",
      "probability=0.950, critical=3.841, stat=260.717\n",
      "interpret test-statistic :  Dependent (reject H0)\n",
      "\n",
      "----- interpret p-value-----\n",
      "significance=0.050, p=0.0000000000\n",
      "interpret p-value :  Dependent (reject H0)\n",
      "\n",
      "        ************************************       \n",
      "\n",
      "Target attribute name: Survived\n",
      "Category attribute name: SibSp\n",
      "\n",
      "Chi-square statistic: 37.27179291520431\n",
      "result p-value: 1.5585810465902116e-06\n",
      "Degrees of freedom: 6\n",
      "Expected frequencies:\n",
      " [374.62626263 128.77777778  17.25252525   9.85858586  11.09090909\n",
      "   3.08080808   4.31313131 233.37373737  80.22222222  10.74747475\n",
      "   6.14141414   6.90909091   1.91919192   2.68686869]\n",
      "\n",
      "----- interpret test-statistic-----\n",
      "probability=0.950, critical=12.592, stat=37.272\n",
      "interpret test-statistic :  Dependent (reject H0)\n",
      "\n",
      "----- interpret p-value-----\n",
      "significance=0.050, p=0.0000015586\n",
      "interpret p-value :  Dependent (reject H0)\n",
      "\n",
      "        ************************************       \n",
      "\n",
      "Target attribute name: Survived\n",
      "Category attribute name: Parch\n",
      "\n",
      "Chi-square statistic: 27.925784060236168\n",
      "result p-value: 9.703526421039997e-05\n",
      "Degrees of freedom: 6\n",
      "Expected frequencies:\n",
      " [4.17757576e+02 7.27070707e+01 4.92929293e+01 3.08080808e+00\n",
      " 2.46464646e+00 3.08080808e+00 6.16161616e-01 2.60242424e+02\n",
      " 4.52929293e+01 3.07070707e+01 1.91919192e+00 1.53535354e+00\n",
      " 1.91919192e+00 3.83838384e-01]\n",
      "\n",
      "----- interpret test-statistic-----\n",
      "probability=0.950, critical=12.592, stat=27.926\n",
      "interpret test-statistic :  Dependent (reject H0)\n",
      "\n",
      "----- interpret p-value-----\n",
      "significance=0.050, p=0.0000970353\n",
      "interpret p-value :  Dependent (reject H0)\n",
      "\n",
      "        ************************************       \n",
      "\n",
      "Target attribute name: Survived\n",
      "Category attribute name: Embarked\n",
      "\n",
      "Chi-square statistic: 26.48914983923762\n",
      "result p-value: 1.769922284120912e-06\n",
      "Degrees of freedom: 2\n",
      "Expected frequencies:\n",
      " [103.7480315  47.5511811 397.7007874  64.2519685  29.4488189 246.2992126]\n",
      "\n",
      "----- interpret test-statistic-----\n",
      "probability=0.950, critical=5.991, stat=26.489\n",
      "interpret test-statistic :  Dependent (reject H0)\n",
      "\n",
      "----- interpret p-value-----\n",
      "significance=0.050, p=0.0000017699\n",
      "interpret p-value :  Dependent (reject H0)\n",
      "\n",
      "        ************************************       \n",
      "\n",
      "independent_attr_count: 0\n",
      "results_df:\n",
      "   Target attribute name Category attribute name Interpret test-statistic  \\\n",
      "3              Survived                   Parch    Dependent (reject H0)   \n",
      "4              Survived                Embarked    Dependent (reject H0)   \n",
      "2              Survived                   SibSp    Dependent (reject H0)   \n",
      "0              Survived                  Pclass    Dependent (reject H0)   \n",
      "1              Survived                     Sex    Dependent (reject H0)   \n",
      "\n",
      "       Interpret p-value  Chi-Square Statistic       p-value  \\\n",
      "3  Dependent (reject H0)             27.925784  9.703526e-05   \n",
      "4  Dependent (reject H0)             26.489150  1.769922e-06   \n",
      "2  Dependent (reject H0)             37.271793  1.558581e-06   \n",
      "0  Dependent (reject H0)            102.888989  4.549252e-23   \n",
      "1  Dependent (reject H0)            260.717020  1.197357e-58   \n",
      "\n",
      "   Degrees of Freedom                               Expected Frequencies  \n",
      "3                   6  [417.75757575757575, 72.70707070707071, 49.292...  \n",
      "4                   2  [103.74803149606299, 47.55118110236221, 397.70...  \n",
      "2                   6  [374.62626262626264, 128.77777777777777, 17.25...  \n",
      "0                   2  [133.0909090909091, 113.37373737373737, 302.53...  \n",
      "1                   1  [193.4747474747475, 355.52525252525254, 120.52...  \n"
     ]
    },
    {
     "data": {
      "image/png": "[encoded data removed]",
      "text/plain": [
       "<Figure size 2500x600 with 1 Axes>"
      ]
     },
     "metadata": {},
     "output_type": "display_data"
    }
   ],
   "source": [
    "if __name__ == '__main__':\n",
    "    main()"
   ]
  },
  {
   "cell_type": "markdown",
   "metadata": {
    "deletable": false,
    "editable": false
   },
   "source": [
    "### #11 License"
   ]
  },
  {
   "cell_type": "markdown",
   "metadata": {
    "deletable": false,
    "editable": false
   },
   "source": [
    "[required]"
   ]
  },
  {
   "cell_type": "code",
   "execution_count": 18,
   "metadata": {},
   "outputs": [],
   "source": [
    "ait_owner='AIST'\n",
    "ait_creation_year='2024'"
   ]
  },
  {
   "cell_type": "markdown",
   "metadata": {
    "deletable": false,
    "editable": false
   },
   "source": [
    "### #12 Deployment"
   ]
  },
  {
   "cell_type": "markdown",
   "metadata": {
    "deletable": false,
    "editable": false
   },
   "source": [
    "[uneditable] "
   ]
  },
  {
   "cell_type": "code",
   "execution_count": 19,
   "metadata": {
    "deletable": false,
    "editable": false
   },
   "outputs": [],
   "source": [
    "if not is_ait_launch:\n",
    "    from ait_sdk.deploy import prepare_deploy\n",
    "    from ait_sdk.license.license_generator import LicenseGenerator\n",
    "    \n",
    "    current_dir = %pwd\n",
    "    prepare_deploy(ait_sdk_name, current_dir, requirements_path)\n",
    "    \n",
    "    # output License.txt\n",
    "    license_generator = LicenseGenerator()\n",
    "    license_generator.write('../top_dir/LICENSE.txt', ait_creation_year, ait_owner)\n"
   ]
  },
  {
   "cell_type": "code",
   "execution_count": null,
   "metadata": {},
   "outputs": [],
   "source": []
  }
 ],
 "metadata": {
  "celltoolbar": "Edit Metadata",
  "kernelspec": {
   "display_name": "Python 3 (ipykernel)",
   "language": "python",
   "name": "python3"
  },
  "language_info": {
   "codemirror_mode": {
    "name": "ipython",
    "version": 3
   },
   "file_extension": ".py",
   "mimetype": "text/x-python",
   "name": "python",
   "nbconvert_exporter": "python",
   "pygments_lexer": "ipython3",
   "version": "3.8.10"
  },
  "vscode": {
   "interpreter": {
    "hash": "cc00c6a56d87bd8bd7773e730c60ddfdb8804da6b7537df09499efbcf81630f7"
   }
  }
 },
 "nbformat": 4,
 "nbformat_minor": 4
}
